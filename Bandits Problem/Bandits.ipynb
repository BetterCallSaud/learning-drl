{
  "nbformat": 4,
  "nbformat_minor": 0,
  "metadata": {
    "colab": {
      "name": "Bandits.ipynb",
      "provenance": [],
      "collapsed_sections": []
    },
    "kernelspec": {
      "name": "python3",
      "display_name": "Python 3"
    },
    "language_info": {
      "name": "python"
    }
  },
  "cells": [
    {
      "cell_type": "code",
      "execution_count": 1,
      "metadata": {
        "id": "6Jb_2WftH_T4"
      },
      "outputs": [],
      "source": [
        "import numpy as np\n",
        "import torch"
      ]
    },
    {
      "cell_type": "markdown",
      "source": [
        "# Contextual Bandits"
      ],
      "metadata": {
        "id": "iClqQN2TLnwT"
      }
    },
    {
      "cell_type": "code",
      "source": [
        "def softmax(av, tau=1.12):\n",
        "    softm = ( np.exp(av / tau) / np.sum( np.exp(av / tau) ) )\n",
        "    return softm"
      ],
      "metadata": {
        "id": "JJF2hjFzXl1M"
      },
      "execution_count": 10,
      "outputs": []
    },
    {
      "cell_type": "code",
      "source": [
        "class ContextBandit:\n",
        "    def __init__(self, arms=10):\n",
        "        self.arms = arms\n",
        "        self.init_distribution(arms)\n",
        "        self.update_state()\n",
        "    \n",
        "    def init_distribution(self, arms):\n",
        "        self.bandit_matrix = np.random.randn(arms, arms)\n",
        "\n",
        "    def reward(self, prob):\n",
        "        reward = 0\n",
        "        for i in range(self.arms):\n",
        "            if np.random.random() < prob:\n",
        "                reward += 1\n",
        "        return reward\n",
        "\n",
        "    def get_state(self):\n",
        "        return self.state\n",
        "\n",
        "    def update_state(self):\n",
        "        self.state = np.random.randint(0, self.arms)\n",
        "\n",
        "    def get_reward(self, arm):\n",
        "        return self.reward(self.bandit_matrix[[self.get_state()], arm])\n",
        "\n",
        "    def choose_arm(self, arm):\n",
        "        reward = self.get_reward(arm)\n",
        "        self.update_state()\n",
        "        return reward"
      ],
      "metadata": {
        "id": "QyDQvGDyIThS"
      },
      "execution_count": 2,
      "outputs": []
    },
    {
      "cell_type": "code",
      "source": [
        "env = ContextBandit(arms=10)\n",
        "state = env.get_state()\n",
        "reward = env.choose_arm(1)\n",
        "print(state, reward)"
      ],
      "metadata": {
        "colab": {
          "base_uri": "https://localhost:8080/"
        },
        "id": "J4Ew1wp3NKbH",
        "outputId": "d1004faa-fefa-416e-8b63-24333e4b877e"
      },
      "execution_count": 3,
      "outputs": [
        {
          "output_type": "stream",
          "name": "stdout",
          "text": [
            "2 0\n"
          ]
        }
      ]
    },
    {
      "cell_type": "code",
      "source": [
        "arms = 10\n",
        "N, D_in, H, D_out = 1, arms, 100, arms"
      ],
      "metadata": {
        "id": "5G5odGVRNUBz"
      },
      "execution_count": 4,
      "outputs": []
    },
    {
      "cell_type": "code",
      "source": [
        "model = torch.nn.Sequential(\n",
        "    torch.nn.Linear(D_in, H),\n",
        "    torch.nn.ReLU(),\n",
        "    torch.nn.Linear(H, D_out),\n",
        "    torch.nn.ReLU()\n",
        ")"
      ],
      "metadata": {
        "id": "x0m9LpIASoRw"
      },
      "execution_count": 5,
      "outputs": []
    },
    {
      "cell_type": "code",
      "source": [
        "loss_fn = torch.nn.MSELoss()"
      ],
      "metadata": {
        "id": "amMZuGPiTIyu"
      },
      "execution_count": 6,
      "outputs": []
    },
    {
      "cell_type": "code",
      "source": [
        "env = ContextBandit(arms)"
      ],
      "metadata": {
        "id": "OAeAkKScT8xt"
      },
      "execution_count": 7,
      "outputs": []
    },
    {
      "cell_type": "code",
      "source": [
        "def one_hot(N, pos, val=1):\n",
        "    vec = np.zeros(N)\n",
        "    vec[pos] = val\n",
        "    return vec"
      ],
      "metadata": {
        "id": "sdUBHuwZUGYy"
      },
      "execution_count": 8,
      "outputs": []
    },
    {
      "cell_type": "code",
      "source": [
        "def running_mean(x, N=50):\n",
        "    c = x.shape[0] - N\n",
        "    y = np.zeros(c)\n",
        "    conv = np.ones(N)\n",
        "    for i in range(c):\n",
        "        y[i] = (x[i:i+N] @ conv) / N\n",
        "    return y"
      ],
      "metadata": {
        "id": "mgP4KDNuVuDo"
      },
      "execution_count": 9,
      "outputs": []
    },
    {
      "cell_type": "code",
      "source": [
        "def train(env, epochs=5000, lr=1e-2):\n",
        "    cur_state = torch.Tensor(one_hot(arms, env.get_state()))\n",
        "    optimizer = torch.optim.Adam(model.parameters(), lr=lr)\n",
        "    rewards = []\n",
        "    for i in range(epochs):\n",
        "        y_pred = model(cur_state)\n",
        "        av_softmax = softmax(y_pred.data.numpy(), tau=0.2)\n",
        "        av_softmax /= av_softmax.sum()\n",
        "        choice = np.random.choice(arms, p=av_softmax)\n",
        "        cur_reward = env.choose_arm(choice)\n",
        "        one_hot_reward = y_pred.data.numpy().copy()\n",
        "        one_hot_reward[choice] = cur_reward\n",
        "        reward = torch.Tensor(one_hot_reward)\n",
        "        rewards.append(cur_reward)\n",
        "        loss = loss_fn(y_pred, reward)\n",
        "        optimizer.zero_grad()\n",
        "        loss.backward()\n",
        "        optimizer.step()\n",
        "        cur_state = torch.Tensor(one_hot(arms, env.get_state()))\n",
        "    return np.array(rewards)"
      ],
      "metadata": {
        "id": "DXtUuwQfXJzd"
      },
      "execution_count": 11,
      "outputs": []
    },
    {
      "cell_type": "code",
      "source": [
        "rewards = train(env)"
      ],
      "metadata": {
        "id": "3q5IxvesZpoI"
      },
      "execution_count": 12,
      "outputs": []
    },
    {
      "cell_type": "code",
      "source": [
        "import matplotlib.pyplot as plt"
      ],
      "metadata": {
        "id": "XfTvItEne1W3"
      },
      "execution_count": 14,
      "outputs": []
    },
    {
      "cell_type": "code",
      "source": [
        "plt.plot(running_mean(rewards, N=500))"
      ],
      "metadata": {
        "colab": {
          "base_uri": "https://localhost:8080/",
          "height": 282
        },
        "id": "Cou8hDZ2es5h",
        "outputId": "3c9c381b-9319-4c28-c0cd-ad2cc2a1366e"
      },
      "execution_count": 15,
      "outputs": [
        {
          "output_type": "execute_result",
          "data": {
            "text/plain": [
              "[<matplotlib.lines.Line2D at 0x7f5058ff2b50>]"
            ]
          },
          "metadata": {},
          "execution_count": 15
        },
        {
          "output_type": "display_data",
          "data": {
            "text/plain": [
              "<Figure size 432x288 with 1 Axes>"
            ],
            "image/png": "[encoded data removed]"
          },
          "metadata": {
            "needs_background": "light"
          }
        }
      ]
    }
  ]
}